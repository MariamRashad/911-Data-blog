{
 "cells": [
  {
   "cell_type": "markdown",
   "metadata": {},
   "source": [
    "# Emergency - 911 Calls Data Analysis"
   ]
  },
  {
   "attachments": {},
   "cell_type": "markdown",
   "metadata": {},
   "source": [
    "!(https://github.com/MariamRashad/911-Data-blog/blob/master/ee280309ac1fb5f24ce3263dafe7fd5c.jpg?raw=true)"
   ]
  },
  {
   "cell_type": "markdown",
   "metadata": {},
   "source": [
    "### Business understanding"
   ]
  },
  {
   "cell_type": "markdown",
   "metadata": {},
   "source": [
    " Before turning the dial, a lot of people across the country had to wait for operator help when calling. Creating an emergency phone number is a good way to connect emergency personnel. The caller of the emergency contact depends on the operator before the emergency number is confirmed. The caller must wait for assistance and tell the operator how many people want to connect. In an emergency, the caller can simply reply to the emergency inservice name to get help.<br>\n",
    "\n",
    "##### according to some dangerous situations that has happened and the gradual increase of the 911 emergency calls Iam going to discuss the following questions :<br>\n",
    "\n",
    "1-What are the top 5 townships for 911 calls? <br>\n",
    "2-What are the most common Reasons for a 911 call ?<br>\n",
    "3-How many calls does 911 recieve during a month ?<br>"
   ]
  },
  {
   "cell_type": "code",
   "execution_count": 80,
   "metadata": {},
   "outputs": [
    {
     "data": {
      "text/html": [
       "<div>\n",
       "<style scoped>\n",
       "    .dataframe tbody tr th:only-of-type {\n",
       "        vertical-align: middle;\n",
       "    }\n",
       "\n",
       "    .dataframe tbody tr th {\n",
       "        vertical-align: top;\n",
       "    }\n",
       "\n",
       "    .dataframe thead th {\n",
       "        text-align: right;\n",
       "    }\n",
       "</style>\n",
       "<table border=\"1\" class=\"dataframe\">\n",
       "  <thead>\n",
       "    <tr style=\"text-align: right;\">\n",
       "      <th></th>\n",
       "      <th>lat</th>\n",
       "      <th>lng</th>\n",
       "      <th>desc</th>\n",
       "      <th>zip</th>\n",
       "      <th>title</th>\n",
       "      <th>timeStamp</th>\n",
       "      <th>twp</th>\n",
       "      <th>addr</th>\n",
       "      <th>e</th>\n",
       "    </tr>\n",
       "  </thead>\n",
       "  <tbody>\n",
       "    <tr>\n",
       "      <th>0</th>\n",
       "      <td>40.297876</td>\n",
       "      <td>-75.581294</td>\n",
       "      <td>REINDEER CT &amp; DEAD END;  NEW HANOVER; Station ...</td>\n",
       "      <td>19525.0</td>\n",
       "      <td>EMS: BACK PAINS/INJURY</td>\n",
       "      <td>2015-12-10 17:40:00</td>\n",
       "      <td>NEW HANOVER</td>\n",
       "      <td>REINDEER CT &amp; DEAD END</td>\n",
       "      <td>1</td>\n",
       "    </tr>\n",
       "    <tr>\n",
       "      <th>1</th>\n",
       "      <td>40.258061</td>\n",
       "      <td>-75.264680</td>\n",
       "      <td>BRIAR PATH &amp; WHITEMARSH LN;  HATFIELD TOWNSHIP...</td>\n",
       "      <td>19446.0</td>\n",
       "      <td>EMS: DIABETIC EMERGENCY</td>\n",
       "      <td>2015-12-10 17:40:00</td>\n",
       "      <td>HATFIELD TOWNSHIP</td>\n",
       "      <td>BRIAR PATH &amp; WHITEMARSH LN</td>\n",
       "      <td>1</td>\n",
       "    </tr>\n",
       "    <tr>\n",
       "      <th>2</th>\n",
       "      <td>40.121182</td>\n",
       "      <td>-75.351975</td>\n",
       "      <td>HAWS AVE; NORRISTOWN; 2015-12-10 @ 14:39:21-St...</td>\n",
       "      <td>19401.0</td>\n",
       "      <td>Fire: GAS-ODOR/LEAK</td>\n",
       "      <td>2015-12-10 17:40:00</td>\n",
       "      <td>NORRISTOWN</td>\n",
       "      <td>HAWS AVE</td>\n",
       "      <td>1</td>\n",
       "    </tr>\n",
       "    <tr>\n",
       "      <th>3</th>\n",
       "      <td>40.116153</td>\n",
       "      <td>-75.343513</td>\n",
       "      <td>AIRY ST &amp; SWEDE ST;  NORRISTOWN; Station 308A;...</td>\n",
       "      <td>19401.0</td>\n",
       "      <td>EMS: CARDIAC EMERGENCY</td>\n",
       "      <td>2015-12-10 17:40:01</td>\n",
       "      <td>NORRISTOWN</td>\n",
       "      <td>AIRY ST &amp; SWEDE ST</td>\n",
       "      <td>1</td>\n",
       "    </tr>\n",
       "    <tr>\n",
       "      <th>4</th>\n",
       "      <td>40.251492</td>\n",
       "      <td>-75.603350</td>\n",
       "      <td>CHERRYWOOD CT &amp; DEAD END;  LOWER POTTSGROVE; S...</td>\n",
       "      <td>NaN</td>\n",
       "      <td>EMS: DIZZINESS</td>\n",
       "      <td>2015-12-10 17:40:01</td>\n",
       "      <td>LOWER POTTSGROVE</td>\n",
       "      <td>CHERRYWOOD CT &amp; DEAD END</td>\n",
       "      <td>1</td>\n",
       "    </tr>\n",
       "    <tr>\n",
       "      <th>...</th>\n",
       "      <td>...</td>\n",
       "      <td>...</td>\n",
       "      <td>...</td>\n",
       "      <td>...</td>\n",
       "      <td>...</td>\n",
       "      <td>...</td>\n",
       "      <td>...</td>\n",
       "      <td>...</td>\n",
       "      <td>...</td>\n",
       "    </tr>\n",
       "    <tr>\n",
       "      <th>99487</th>\n",
       "      <td>40.132869</td>\n",
       "      <td>-75.333515</td>\n",
       "      <td>MARKLEY ST &amp; W LOGAN ST; NORRISTOWN; 2016-08-2...</td>\n",
       "      <td>19401.0</td>\n",
       "      <td>Traffic: VEHICLE ACCIDENT -</td>\n",
       "      <td>2016-08-24 11:06:00</td>\n",
       "      <td>NORRISTOWN</td>\n",
       "      <td>MARKLEY ST &amp; W LOGAN ST</td>\n",
       "      <td>1</td>\n",
       "    </tr>\n",
       "    <tr>\n",
       "      <th>99488</th>\n",
       "      <td>40.006974</td>\n",
       "      <td>-75.289080</td>\n",
       "      <td>LANCASTER AVE &amp; RITTENHOUSE PL; LOWER MERION; ...</td>\n",
       "      <td>19003.0</td>\n",
       "      <td>Traffic: VEHICLE ACCIDENT -</td>\n",
       "      <td>2016-08-24 11:07:02</td>\n",
       "      <td>LOWER MERION</td>\n",
       "      <td>LANCASTER AVE &amp; RITTENHOUSE PL</td>\n",
       "      <td>1</td>\n",
       "    </tr>\n",
       "    <tr>\n",
       "      <th>99489</th>\n",
       "      <td>40.115429</td>\n",
       "      <td>-75.334679</td>\n",
       "      <td>CHESTNUT ST &amp; WALNUT ST;  NORRISTOWN; Station ...</td>\n",
       "      <td>19401.0</td>\n",
       "      <td>EMS: FALL VICTIM</td>\n",
       "      <td>2016-08-24 11:12:00</td>\n",
       "      <td>NORRISTOWN</td>\n",
       "      <td>CHESTNUT ST &amp; WALNUT ST</td>\n",
       "      <td>1</td>\n",
       "    </tr>\n",
       "    <tr>\n",
       "      <th>99490</th>\n",
       "      <td>40.186431</td>\n",
       "      <td>-75.192555</td>\n",
       "      <td>WELSH RD &amp; WEBSTER LN;  HORSHAM; Station 352; ...</td>\n",
       "      <td>19002.0</td>\n",
       "      <td>EMS: NAUSEA/VOMITING</td>\n",
       "      <td>2016-08-24 11:17:01</td>\n",
       "      <td>HORSHAM</td>\n",
       "      <td>WELSH RD &amp; WEBSTER LN</td>\n",
       "      <td>1</td>\n",
       "    </tr>\n",
       "    <tr>\n",
       "      <th>99491</th>\n",
       "      <td>40.207055</td>\n",
       "      <td>-75.317952</td>\n",
       "      <td>MORRIS RD &amp; S BROAD ST; UPPER GWYNEDD; 2016-08...</td>\n",
       "      <td>19446.0</td>\n",
       "      <td>Traffic: VEHICLE ACCIDENT -</td>\n",
       "      <td>2016-08-24 11:17:02</td>\n",
       "      <td>UPPER GWYNEDD</td>\n",
       "      <td>MORRIS RD &amp; S BROAD ST</td>\n",
       "      <td>1</td>\n",
       "    </tr>\n",
       "  </tbody>\n",
       "</table>\n",
       "<p>99492 rows × 9 columns</p>\n",
       "</div>"
      ],
      "text/plain": [
       "             lat        lng  \\\n",
       "0      40.297876 -75.581294   \n",
       "1      40.258061 -75.264680   \n",
       "2      40.121182 -75.351975   \n",
       "3      40.116153 -75.343513   \n",
       "4      40.251492 -75.603350   \n",
       "...          ...        ...   \n",
       "99487  40.132869 -75.333515   \n",
       "99488  40.006974 -75.289080   \n",
       "99489  40.115429 -75.334679   \n",
       "99490  40.186431 -75.192555   \n",
       "99491  40.207055 -75.317952   \n",
       "\n",
       "                                                    desc      zip  \\\n",
       "0      REINDEER CT & DEAD END;  NEW HANOVER; Station ...  19525.0   \n",
       "1      BRIAR PATH & WHITEMARSH LN;  HATFIELD TOWNSHIP...  19446.0   \n",
       "2      HAWS AVE; NORRISTOWN; 2015-12-10 @ 14:39:21-St...  19401.0   \n",
       "3      AIRY ST & SWEDE ST;  NORRISTOWN; Station 308A;...  19401.0   \n",
       "4      CHERRYWOOD CT & DEAD END;  LOWER POTTSGROVE; S...      NaN   \n",
       "...                                                  ...      ...   \n",
       "99487  MARKLEY ST & W LOGAN ST; NORRISTOWN; 2016-08-2...  19401.0   \n",
       "99488  LANCASTER AVE & RITTENHOUSE PL; LOWER MERION; ...  19003.0   \n",
       "99489  CHESTNUT ST & WALNUT ST;  NORRISTOWN; Station ...  19401.0   \n",
       "99490  WELSH RD & WEBSTER LN;  HORSHAM; Station 352; ...  19002.0   \n",
       "99491  MORRIS RD & S BROAD ST; UPPER GWYNEDD; 2016-08...  19446.0   \n",
       "\n",
       "                             title            timeStamp                twp  \\\n",
       "0           EMS: BACK PAINS/INJURY  2015-12-10 17:40:00        NEW HANOVER   \n",
       "1          EMS: DIABETIC EMERGENCY  2015-12-10 17:40:00  HATFIELD TOWNSHIP   \n",
       "2              Fire: GAS-ODOR/LEAK  2015-12-10 17:40:00         NORRISTOWN   \n",
       "3           EMS: CARDIAC EMERGENCY  2015-12-10 17:40:01         NORRISTOWN   \n",
       "4                   EMS: DIZZINESS  2015-12-10 17:40:01   LOWER POTTSGROVE   \n",
       "...                            ...                  ...                ...   \n",
       "99487  Traffic: VEHICLE ACCIDENT -  2016-08-24 11:06:00         NORRISTOWN   \n",
       "99488  Traffic: VEHICLE ACCIDENT -  2016-08-24 11:07:02       LOWER MERION   \n",
       "99489             EMS: FALL VICTIM  2016-08-24 11:12:00         NORRISTOWN   \n",
       "99490         EMS: NAUSEA/VOMITING  2016-08-24 11:17:01            HORSHAM   \n",
       "99491  Traffic: VEHICLE ACCIDENT -  2016-08-24 11:17:02      UPPER GWYNEDD   \n",
       "\n",
       "                                 addr  e  \n",
       "0              REINDEER CT & DEAD END  1  \n",
       "1          BRIAR PATH & WHITEMARSH LN  1  \n",
       "2                            HAWS AVE  1  \n",
       "3                  AIRY ST & SWEDE ST  1  \n",
       "4            CHERRYWOOD CT & DEAD END  1  \n",
       "...                               ... ..  \n",
       "99487         MARKLEY ST & W LOGAN ST  1  \n",
       "99488  LANCASTER AVE & RITTENHOUSE PL  1  \n",
       "99489         CHESTNUT ST & WALNUT ST  1  \n",
       "99490           WELSH RD & WEBSTER LN  1  \n",
       "99491          MORRIS RD & S BROAD ST  1  \n",
       "\n",
       "[99492 rows x 9 columns]"
      ]
     },
     "execution_count": 80,
     "metadata": {},
     "output_type": "execute_result"
    }
   ],
   "source": [
    "##importing libraries\n",
    "import pandas as pd\n",
    "import numpy as np\n",
    "import matplotlib.pyplot as plt\n",
    "import seaborn as sns\n",
    "%matplotlib inline\n",
    "%config inlinebackend.figure_format = 'retina'\n",
    "df = pd.read_csv('911.csv')\n",
    "df"
   ]
  },
  {
   "cell_type": "markdown",
   "metadata": {},
   "source": [
    "### After we had inserted our DataSet let's see what can we do with it ;) "
   ]
  },
  {
   "cell_type": "markdown",
   "metadata": {},
   "source": [
    "#### Data Understanding "
   ]
  },
  {
   "cell_type": "markdown",
   "metadata": {},
   "source": [
    "What we will need from our dataset are the towns , the date of the calls , The reason for the emergency and the number of calls we also have the Zipcode of each town but we won't need it to answer our questions ."
   ]
  },
  {
   "cell_type": "code",
   "execution_count": 81,
   "metadata": {},
   "outputs": [
    {
     "name": "stdout",
     "output_type": "stream",
     "text": [
      "<class 'pandas.core.frame.DataFrame'>\n",
      "RangeIndex: 99492 entries, 0 to 99491\n",
      "Data columns (total 9 columns):\n",
      " #   Column     Non-Null Count  Dtype  \n",
      "---  ------     --------------  -----  \n",
      " 0   lat        99492 non-null  float64\n",
      " 1   lng        99492 non-null  float64\n",
      " 2   desc       99492 non-null  object \n",
      " 3   zip        86637 non-null  float64\n",
      " 4   title      99492 non-null  object \n",
      " 5   timeStamp  99492 non-null  object \n",
      " 6   twp        99449 non-null  object \n",
      " 7   addr       98973 non-null  object \n",
      " 8   e          99492 non-null  int64  \n",
      "dtypes: float64(3), int64(1), object(5)\n",
      "memory usage: 6.8+ MB\n"
     ]
    }
   ],
   "source": [
    "df.info()"
   ]
  },
  {
   "cell_type": "code",
   "execution_count": 82,
   "metadata": {},
   "outputs": [
    {
     "data": {
      "text/html": [
       "<div>\n",
       "<style scoped>\n",
       "    .dataframe tbody tr th:only-of-type {\n",
       "        vertical-align: middle;\n",
       "    }\n",
       "\n",
       "    .dataframe tbody tr th {\n",
       "        vertical-align: top;\n",
       "    }\n",
       "\n",
       "    .dataframe thead th {\n",
       "        text-align: right;\n",
       "    }\n",
       "</style>\n",
       "<table border=\"1\" class=\"dataframe\">\n",
       "  <thead>\n",
       "    <tr style=\"text-align: right;\">\n",
       "      <th></th>\n",
       "      <th>lat</th>\n",
       "      <th>lng</th>\n",
       "      <th>desc</th>\n",
       "      <th>zip</th>\n",
       "      <th>title</th>\n",
       "      <th>timeStamp</th>\n",
       "      <th>twp</th>\n",
       "      <th>addr</th>\n",
       "      <th>e</th>\n",
       "    </tr>\n",
       "  </thead>\n",
       "  <tbody>\n",
       "    <tr>\n",
       "      <th>0</th>\n",
       "      <td>40.297876</td>\n",
       "      <td>-75.581294</td>\n",
       "      <td>REINDEER CT &amp; DEAD END;  NEW HANOVER; Station ...</td>\n",
       "      <td>19525.0</td>\n",
       "      <td>EMS: BACK PAINS/INJURY</td>\n",
       "      <td>2015-12-10 17:40:00</td>\n",
       "      <td>NEW HANOVER</td>\n",
       "      <td>REINDEER CT &amp; DEAD END</td>\n",
       "      <td>1</td>\n",
       "    </tr>\n",
       "    <tr>\n",
       "      <th>1</th>\n",
       "      <td>40.258061</td>\n",
       "      <td>-75.264680</td>\n",
       "      <td>BRIAR PATH &amp; WHITEMARSH LN;  HATFIELD TOWNSHIP...</td>\n",
       "      <td>19446.0</td>\n",
       "      <td>EMS: DIABETIC EMERGENCY</td>\n",
       "      <td>2015-12-10 17:40:00</td>\n",
       "      <td>HATFIELD TOWNSHIP</td>\n",
       "      <td>BRIAR PATH &amp; WHITEMARSH LN</td>\n",
       "      <td>1</td>\n",
       "    </tr>\n",
       "  </tbody>\n",
       "</table>\n",
       "</div>"
      ],
      "text/plain": [
       "         lat        lng                                               desc  \\\n",
       "0  40.297876 -75.581294  REINDEER CT & DEAD END;  NEW HANOVER; Station ...   \n",
       "1  40.258061 -75.264680  BRIAR PATH & WHITEMARSH LN;  HATFIELD TOWNSHIP...   \n",
       "\n",
       "       zip                    title            timeStamp                twp  \\\n",
       "0  19525.0   EMS: BACK PAINS/INJURY  2015-12-10 17:40:00        NEW HANOVER   \n",
       "1  19446.0  EMS: DIABETIC EMERGENCY  2015-12-10 17:40:00  HATFIELD TOWNSHIP   \n",
       "\n",
       "                         addr  e  \n",
       "0      REINDEER CT & DEAD END  1  \n",
       "1  BRIAR PATH & WHITEMARSH LN  1  "
      ]
     },
     "execution_count": 82,
     "metadata": {},
     "output_type": "execute_result"
    }
   ],
   "source": [
    "df.head(2)"
   ]
  },
  {
   "cell_type": "markdown",
   "metadata": {},
   "source": [
    "Now that we saw the details of our dataset , a sample for the heading and each column values let's make some changes and add some stuff to our dataset to help understanding it better ;)\n"
   ]
  },
  {
   "cell_type": "markdown",
   "metadata": {},
   "source": [
    "#### Data preperation"
   ]
  },
  {
   "cell_type": "markdown",
   "metadata": {},
   "source": [
    "###### Creating new features.."
   ]
  },
  {
   "cell_type": "markdown",
   "metadata": {},
   "source": [
    "In the titles column there are \"Reasons/Departments\" specified before the title code. These are EMS, Fire, and Traffic. we are Using .apply() with a custom lambda expression to create a new column called \"Reason\" that contains this string value.\n",
    "\n",
    "**For example, if the title column value is EMS: BACK PAINS/INJURY , the Reason column value would be EMS."
   ]
  },
  {
   "cell_type": "code",
   "execution_count": 83,
   "metadata": {},
   "outputs": [],
   "source": [
    "df['Reason'] = df['title'].apply(lambda title: title.split(':')[0])"
   ]
  },
  {
   "cell_type": "markdown",
   "metadata": {},
   "source": [
    "##### What is the most common Reason for a 911 call based off of this new column?"
   ]
  },
  {
   "cell_type": "code",
   "execution_count": 84,
   "metadata": {},
   "outputs": [
    {
     "data": {
      "text/plain": [
       "EMS        48877\n",
       "Traffic    35695\n",
       "Fire       14920\n",
       "Name: Reason, dtype: int64"
      ]
     },
     "execution_count": 84,
     "metadata": {},
     "output_type": "execute_result"
    }
   ],
   "source": [
    "df['Reason'].value_counts()"
   ]
  },
  {
   "cell_type": "markdown",
   "metadata": {},
   "source": [
    "now we are Using pd.to_datetime to convert the column from strings to DateTime objects."
   ]
  },
  {
   "cell_type": "code",
   "execution_count": 85,
   "metadata": {},
   "outputs": [],
   "source": [
    "df['timeStamp'] = pd.to_datetime(df['timeStamp'])"
   ]
  },
  {
   "cell_type": "markdown",
   "metadata": {},
   "source": [
    "now we are going to create 3 columns based off of the timeStamp column"
   ]
  },
  {
   "cell_type": "code",
   "execution_count": 86,
   "metadata": {},
   "outputs": [],
   "source": [
    "df['Hour'] = df['timeStamp'].apply(lambda time: time.hour)\n",
    "df['Month'] = df['timeStamp'].apply(lambda time: time.month)\n",
    "df['Day of Week'] = df['timeStamp'].apply(lambda time: time.dayofweek)"
   ]
  },
  {
   "cell_type": "markdown",
   "metadata": {},
   "source": [
    "we will later notice a plot missing some Months\n",
    "\n",
    "so we have to create a groupby object called byMonth, where you group the DataFrame by the month column and use the count() method for aggregation.\n",
    "\n"
   ]
  },
  {
   "cell_type": "code",
   "execution_count": 87,
   "metadata": {},
   "outputs": [
    {
     "data": {
      "text/html": [
       "<div>\n",
       "<style scoped>\n",
       "    .dataframe tbody tr th:only-of-type {\n",
       "        vertical-align: middle;\n",
       "    }\n",
       "\n",
       "    .dataframe tbody tr th {\n",
       "        vertical-align: top;\n",
       "    }\n",
       "\n",
       "    .dataframe thead th {\n",
       "        text-align: right;\n",
       "    }\n",
       "</style>\n",
       "<table border=\"1\" class=\"dataframe\">\n",
       "  <thead>\n",
       "    <tr style=\"text-align: right;\">\n",
       "      <th></th>\n",
       "      <th>lat</th>\n",
       "      <th>lng</th>\n",
       "      <th>desc</th>\n",
       "      <th>zip</th>\n",
       "      <th>title</th>\n",
       "      <th>timeStamp</th>\n",
       "      <th>twp</th>\n",
       "      <th>addr</th>\n",
       "      <th>e</th>\n",
       "      <th>Reason</th>\n",
       "      <th>Hour</th>\n",
       "      <th>Day of Week</th>\n",
       "    </tr>\n",
       "    <tr>\n",
       "      <th>Month</th>\n",
       "      <th></th>\n",
       "      <th></th>\n",
       "      <th></th>\n",
       "      <th></th>\n",
       "      <th></th>\n",
       "      <th></th>\n",
       "      <th></th>\n",
       "      <th></th>\n",
       "      <th></th>\n",
       "      <th></th>\n",
       "      <th></th>\n",
       "      <th></th>\n",
       "    </tr>\n",
       "  </thead>\n",
       "  <tbody>\n",
       "    <tr>\n",
       "      <th>1</th>\n",
       "      <td>13205</td>\n",
       "      <td>13205</td>\n",
       "      <td>13205</td>\n",
       "      <td>11527</td>\n",
       "      <td>13205</td>\n",
       "      <td>13205</td>\n",
       "      <td>13203</td>\n",
       "      <td>13096</td>\n",
       "      <td>13205</td>\n",
       "      <td>13205</td>\n",
       "      <td>13205</td>\n",
       "      <td>13205</td>\n",
       "    </tr>\n",
       "    <tr>\n",
       "      <th>2</th>\n",
       "      <td>11467</td>\n",
       "      <td>11467</td>\n",
       "      <td>11467</td>\n",
       "      <td>9930</td>\n",
       "      <td>11467</td>\n",
       "      <td>11467</td>\n",
       "      <td>11465</td>\n",
       "      <td>11396</td>\n",
       "      <td>11467</td>\n",
       "      <td>11467</td>\n",
       "      <td>11467</td>\n",
       "      <td>11467</td>\n",
       "    </tr>\n",
       "    <tr>\n",
       "      <th>3</th>\n",
       "      <td>11101</td>\n",
       "      <td>11101</td>\n",
       "      <td>11101</td>\n",
       "      <td>9755</td>\n",
       "      <td>11101</td>\n",
       "      <td>11101</td>\n",
       "      <td>11092</td>\n",
       "      <td>11059</td>\n",
       "      <td>11101</td>\n",
       "      <td>11101</td>\n",
       "      <td>11101</td>\n",
       "      <td>11101</td>\n",
       "    </tr>\n",
       "    <tr>\n",
       "      <th>4</th>\n",
       "      <td>11326</td>\n",
       "      <td>11326</td>\n",
       "      <td>11326</td>\n",
       "      <td>9895</td>\n",
       "      <td>11326</td>\n",
       "      <td>11326</td>\n",
       "      <td>11323</td>\n",
       "      <td>11283</td>\n",
       "      <td>11326</td>\n",
       "      <td>11326</td>\n",
       "      <td>11326</td>\n",
       "      <td>11326</td>\n",
       "    </tr>\n",
       "    <tr>\n",
       "      <th>5</th>\n",
       "      <td>11423</td>\n",
       "      <td>11423</td>\n",
       "      <td>11423</td>\n",
       "      <td>9946</td>\n",
       "      <td>11423</td>\n",
       "      <td>11423</td>\n",
       "      <td>11420</td>\n",
       "      <td>11378</td>\n",
       "      <td>11423</td>\n",
       "      <td>11423</td>\n",
       "      <td>11423</td>\n",
       "      <td>11423</td>\n",
       "    </tr>\n",
       "  </tbody>\n",
       "</table>\n",
       "</div>"
      ],
      "text/plain": [
       "         lat    lng   desc    zip  title  timeStamp    twp   addr      e  \\\n",
       "Month                                                                      \n",
       "1      13205  13205  13205  11527  13205      13205  13203  13096  13205   \n",
       "2      11467  11467  11467   9930  11467      11467  11465  11396  11467   \n",
       "3      11101  11101  11101   9755  11101      11101  11092  11059  11101   \n",
       "4      11326  11326  11326   9895  11326      11326  11323  11283  11326   \n",
       "5      11423  11423  11423   9946  11423      11423  11420  11378  11423   \n",
       "\n",
       "       Reason   Hour  Day of Week  \n",
       "Month                              \n",
       "1       13205  13205        13205  \n",
       "2       11467  11467        11467  \n",
       "3       11101  11101        11101  \n",
       "4       11326  11326        11326  \n",
       "5       11423  11423        11423  "
      ]
     },
     "execution_count": 87,
     "metadata": {},
     "output_type": "execute_result"
    }
   ],
   "source": [
    "byMonth = df.groupby('Month').count()\n",
    "byMonth.head()"
   ]
  },
  {
   "cell_type": "markdown",
   "metadata": {},
   "source": [
    "### Final answers and conclusions"
   ]
  },
  {
   "cell_type": "markdown",
   "metadata": {},
   "source": [
    "##### 1-What are the top 5 townships for 911 calls?"
   ]
  },
  {
   "cell_type": "code",
   "execution_count": 88,
   "metadata": {},
   "outputs": [
    {
     "data": {
      "text/plain": [
       "LOWER MERION    8443\n",
       "ABINGTON        5977\n",
       "NORRISTOWN      5890\n",
       "UPPER MERION    5227\n",
       "CHELTENHAM      4575\n",
       "Name: twp, dtype: int64"
      ]
     },
     "execution_count": 88,
     "metadata": {},
     "output_type": "execute_result"
    }
   ],
   "source": [
    "df['twp'].value_counts().head(5)"
   ]
  },
  {
   "cell_type": "markdown",
   "metadata": {},
   "source": [
    "##### 2-What are the most common Reasons for a 911 call ?"
   ]
  },
  {
   "cell_type": "markdown",
   "metadata": {},
   "source": [
    "##### Now we will see a countplot of 911 calls by Reason."
   ]
  },
  {
   "cell_type": "code",
   "execution_count": 57,
   "metadata": {},
   "outputs": [
    {
     "data": {
      "text/plain": [
       "<matplotlib.axes._subplots.AxesSubplot at 0x1d9f9c90388>"
      ]
     },
     "execution_count": 57,
     "metadata": {},
     "output_type": "execute_result"
    },
    {
     "data": {
      "image/png": "[encoded data removed]",
      "text/plain": [
       "<Figure size 432x288 with 1 Axes>"
      ]
     },
     "metadata": {
      "needs_background": "light"
     },
     "output_type": "display_data"
    }
   ],
   "source": [
    "sns.countplot(x='Reason',data=df,palette='viridis')"
   ]
  },
  {
   "cell_type": "markdown",
   "metadata": {},
   "source": [
    "##### 3-How many calls does 911 recieve during a month ?"
   ]
  },
  {
   "cell_type": "markdown",
   "metadata": {},
   "source": [
    "##### First we will see a countplot of the Month column by the Reason column."
   ]
  },
  {
   "cell_type": "code",
   "execution_count": 69,
   "metadata": {},
   "outputs": [
    {
     "data": {
      "text/plain": [
       "<matplotlib.legend.Legend at 0x1d9f9bc5088>"
      ]
     },
     "execution_count": 69,
     "metadata": {},
     "output_type": "execute_result"
    },
    {
     "data": {
      "image/png": "[encoded data removed]",
      "text/plain": [
       "<Figure size 432x288 with 1 Axes>"
      ]
     },
     "metadata": {
      "needs_background": "light"
     },
     "output_type": "display_data"
    }
   ],
   "source": [
    "sns.countplot(x='Month',data=df,hue='Reason',palette='viridis')\n",
    "\n",
    "# To relocate the legend\n",
    "plt.legend(bbox_to_anchor=(1.05, 1), loc=2, borderaxespad=0.)"
   ]
  },
  {
   "cell_type": "markdown",
   "metadata": {},
   "source": [
    "##### Second the count of calls per month."
   ]
  },
  {
   "cell_type": "code",
   "execution_count": 71,
   "metadata": {},
   "outputs": [
    {
     "data": {
      "text/plain": [
       "<matplotlib.axes._subplots.AxesSubplot at 0x1d9f9a4a988>"
      ]
     },
     "execution_count": 71,
     "metadata": {},
     "output_type": "execute_result"
    },
    {
     "data": {
      "image/png": "[encoded data removed]",
      "text/plain": [
       "<Figure size 432x288 with 1 Axes>"
      ]
     },
     "metadata": {
      "needs_background": "light"
     },
     "output_type": "display_data"
    }
   ],
   "source": [
    "byMonth['twp'].plot()"
   ]
  },
  {
   "cell_type": "markdown",
   "metadata": {},
   "source": [
    "### Conclusions"
   ]
  },
  {
   "attachments": {},
   "cell_type": "markdown",
   "metadata": {},
   "source": [
    "!(https://github.com/MariamRashad/911-Data-blog/blob/master/01fcc40d6b7564bcc9edd0d308bdfd68.jpg?raw=true)"
   ]
  },
  {
   "cell_type": "markdown",
   "metadata": {},
   "source": [
    "*911 is one from the most Important and used methods to help rescue lifes .. <br>"
   ]
  },
  {
   "cell_type": "markdown",
   "metadata": {},
   "source": [
    "*Every individual faces dangerous situations during their lifes that cannot be solved easily except by Resorting to someone who can help ."
   ]
  },
  {
   "cell_type": "markdown",
   "metadata": {},
   "source": [
    "*And It's always preferred to be 911 in such situations ♥"
   ]
  },
  {
   "cell_type": "markdown",
   "metadata": {},
   "source": [
    "*May all of us be safe and get away from falling into troubles .."
   ]
  },
  {
   "cell_type": "code",
   "execution_count": null,
   "metadata": {},
   "outputs": [],
   "source": []
  }
 ],
 "metadata": {
  "kernelspec": {
   "display_name": "Python 3",
   "language": "python",
   "name": "python3"
  },
  "language_info": {
   "codemirror_mode": {
    "name": "ipython",
    "version": 3
   },
   "file_extension": ".py",
   "mimetype": "text/x-python",
   "name": "python",
   "nbconvert_exporter": "python",
   "pygments_lexer": "ipython3",
   "version": "3.7.6"
  }
 },
 "nbformat": 4,
 "nbformat_minor": 4
}
